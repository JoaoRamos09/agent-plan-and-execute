{
 "cells": [
  {
   "cell_type": "markdown",
   "metadata": {
    "id": "zL6ZjoFIFT3o"
   },
   "source": [
    "#**Agent Plan-and-Execute**\n",
    "\n",
    "Neste notebook, exploraremos um exemplo da arquitetura de agente \"Plan-and-Execute\". Nesse modelo, o agente elabora um plano detalhado, dividido em etapas que devem ser seguidas para alcançar um objetivo específico. A cada etapa executada, o agente verifica se o objetivo já foi atingido; caso positivo, ele encerra a execução e informa o usuário. O objetivo será fornecido como entrada pelo usuário.\n",
    "\n",
    "<br>\n",
    "\n",
    "A arquitetura de agente \"Plan-and-Execute\" é projetada para permitir que agentes autônomos alcancem objetivos de forma estruturada e eficiente. Esse tipo de arquitetura visa fornecer ao agente a capacidade de criar um plano de ação passo a passo, o que facilita a realização de tarefas complexas que exigem uma sequência lógica de ações. Com essa abordagem, o agente não apenas executa ações de forma reativa, mas também se planeja com antecedência, considerando as etapas necessárias para atingir o objetivo."
   ]
  },
  {
   "cell_type": "markdown",
   "metadata": {
    "id": "soi-yyonHGD-"
   },
   "source": [
    "## Configurações\n",
    "\n",
    "Vamos instalar os módulos necessários e configurar as variáveis de ambiente."
   ]
  },
  {
   "cell_type": "code",
   "execution_count": null,
   "metadata": {
    "colab": {
     "base_uri": "https://localhost:8080/"
    },
    "collapsed": true,
    "id": "wk3sPp-r52gU",
    "outputId": "d071088a-7de9-48f6-a98d-9b3af986b04d"
   },
   "outputs": [
    {
     "name": "stdout",
     "output_type": "stream",
     "text": [
      "\u001b[2K     \u001b[90m━━━━━━━━━━━━━━━━━━━━━━━━━━━━━━━━━━━━━━━━\u001b[0m \u001b[32m50.6/50.6 kB\u001b[0m \u001b[31m2.5 MB/s\u001b[0m eta \u001b[36m0:00:00\u001b[0m\n",
      "\u001b[2K   \u001b[90m━━━━━━━━━━━━━━━━━━━━━━━━━━━━━━━━━━━━━━━━\u001b[0m \u001b[32m113.5/113.5 kB\u001b[0m \u001b[31m5.0 MB/s\u001b[0m eta \u001b[36m0:00:00\u001b[0m\n",
      "\u001b[2K   \u001b[90m━━━━━━━━━━━━━━━━━━━━━━━━━━━━━━━━━━━━━━━━\u001b[0m \u001b[32m2.4/2.4 MB\u001b[0m \u001b[31m32.8 MB/s\u001b[0m eta \u001b[36m0:00:00\u001b[0m\n",
      "\u001b[2K   \u001b[90m━━━━━━━━━━━━━━━━━━━━━━━━━━━━━━━━━━━━━━━━\u001b[0m \u001b[32m50.4/50.4 kB\u001b[0m \u001b[31m3.0 MB/s\u001b[0m eta \u001b[36m0:00:00\u001b[0m\n",
      "\u001b[2K   \u001b[90m━━━━━━━━━━━━━━━━━━━━━━━━━━━━━━━━━━━━━━━━\u001b[0m \u001b[32m1.0/1.0 MB\u001b[0m \u001b[31m31.4 MB/s\u001b[0m eta \u001b[36m0:00:00\u001b[0m\n",
      "\u001b[2K   \u001b[90m━━━━━━━━━━━━━━━━━━━━━━━━━━━━━━━━━━━━━━━━\u001b[0m \u001b[32m408.0/408.0 kB\u001b[0m \u001b[31m21.2 MB/s\u001b[0m eta \u001b[36m0:00:00\u001b[0m\n",
      "\u001b[2K   \u001b[90m━━━━━━━━━━━━━━━━━━━━━━━━━━━━━━━━━━━━━━━━\u001b[0m \u001b[32m76.4/76.4 kB\u001b[0m \u001b[31m4.1 MB/s\u001b[0m eta \u001b[36m0:00:00\u001b[0m\n",
      "\u001b[2K   \u001b[90m━━━━━━━━━━━━━━━━━━━━━━━━━━━━━━━━━━━━━━━━\u001b[0m \u001b[32m78.0/78.0 kB\u001b[0m \u001b[31m4.5 MB/s\u001b[0m eta \u001b[36m0:00:00\u001b[0m\n",
      "\u001b[2K   \u001b[90m━━━━━━━━━━━━━━━━━━━━━━━━━━━━━━━━━━━━━━━━\u001b[0m \u001b[32m296.9/296.9 kB\u001b[0m \u001b[31m15.5 MB/s\u001b[0m eta \u001b[36m0:00:00\u001b[0m\n",
      "\u001b[2K   \u001b[90m━━━━━━━━━━━━━━━━━━━━━━━━━━━━━━━━━━━━━━━━\u001b[0m \u001b[32m386.9/386.9 kB\u001b[0m \u001b[31m17.5 MB/s\u001b[0m eta \u001b[36m0:00:00\u001b[0m\n",
      "\u001b[2K   \u001b[90m━━━━━━━━━━━━━━━━━━━━━━━━━━━━━━━━━━━━━━━━\u001b[0m \u001b[32m1.2/1.2 MB\u001b[0m \u001b[31m35.4 MB/s\u001b[0m eta \u001b[36m0:00:00\u001b[0m\n",
      "\u001b[2K   \u001b[90m━━━━━━━━━━━━━━━━━━━━━━━━━━━━━━━━━━━━━━━━\u001b[0m \u001b[32m325.2/325.2 kB\u001b[0m \u001b[31m17.1 MB/s\u001b[0m eta \u001b[36m0:00:00\u001b[0m\n",
      "\u001b[2K   \u001b[90m━━━━━━━━━━━━━━━━━━━━━━━━━━━━━━━━━━━━━━━━\u001b[0m \u001b[32m49.5/49.5 kB\u001b[0m \u001b[31m2.3 MB/s\u001b[0m eta \u001b[36m0:00:00\u001b[0m\n",
      "\u001b[2K   \u001b[90m━━━━━━━━━━━━━━━━━━━━━━━━━━━━━━━━━━━━━━━━\u001b[0m \u001b[32m144.5/144.5 kB\u001b[0m \u001b[31m8.2 MB/s\u001b[0m eta \u001b[36m0:00:00\u001b[0m\n",
      "\u001b[2K   \u001b[90m━━━━━━━━━━━━━━━━━━━━━━━━━━━━━━━━━━━━━━━━\u001b[0m \u001b[32m54.5/54.5 kB\u001b[0m \u001b[31m2.9 MB/s\u001b[0m eta \u001b[36m0:00:00\u001b[0m\n",
      "\u001b[2K   \u001b[90m━━━━━━━━━━━━━━━━━━━━━━━━━━━━━━━━━━━━━━━━\u001b[0m \u001b[32m58.3/58.3 kB\u001b[0m \u001b[31m3.2 MB/s\u001b[0m eta \u001b[36m0:00:00\u001b[0m\n",
      "\u001b[?25h"
     ]
    }
   ],
   "source": [
    "pip install --quiet -U langgraph langchain-community langchain-openai tavily-python"
   ]
  },
  {
   "cell_type": "code",
   "execution_count": 3,
   "metadata": {
    "id": "Fra2bFiA6Kxm"
   },
   "outputs": [],
   "source": [
    "from google.colab import userdata\n",
    "import os\n",
    "\n",
    "OPENAI_API_KEY = userdata.get(\"OPENAI_API_KEY\")\n",
    "TAVILY_API_KEY = userdata.get(\"TAVILY_API_KEY\")\n",
    "\n",
    "os.environ[\"OPENAI_API_KEY\"] = OPENAI_API_KEY\n",
    "os.environ[\"TAVILY_API_KEY\"] = TAVILY_API_KEY"
   ]
  },
  {
   "cell_type": "markdown",
   "metadata": {
    "id": "qNBPvV9t6-kR"
   },
   "source": [
    "## Tools\n",
    "\n",
    "Neste exemplo vamos utilizar somente a tool do Tavily, ele irá realizar pesquisas na internet para auxiliar o agente na realização de cada etapa."
   ]
  },
  {
   "cell_type": "code",
   "execution_count": 4,
   "metadata": {
    "id": "mdcF1UGa6h3e"
   },
   "outputs": [],
   "source": [
    "from langchain_community.tools.tavily_search import TavilySearchResults\n",
    "\n",
    "tools = [TavilySearchResults(max_results=3)]"
   ]
  },
  {
   "cell_type": "markdown",
   "metadata": {
    "id": "WpSppLsP9i1Y"
   },
   "source": [
    "## Definindo a clase de estado do Workflow\n",
    "\n",
    "Vamos desenvolver a classe 'PlanExecute' ele será o nosso State no Workflow, responsável por gerenciar e interagir com os input e outputs de cada node."
   ]
  },
  {
   "cell_type": "code",
   "execution_count": 6,
   "metadata": {
    "id": "zpdUnvjI9lfU"
   },
   "outputs": [],
   "source": [
    "import operator\n",
    "from typing import Annotated, List, Tuple\n",
    "from typing_extensions import TypedDict\n",
    "\n",
    "class PlanExecute(TypedDict):\n",
    "  input: str\n",
    "  plan: List[str]\n",
    "  past_steps: Annotated[List[Tuple], operator.add]\n",
    "  response: str"
   ]
  },
  {
   "cell_type": "markdown",
   "metadata": {
    "id": "8Rc2ErHg7UDT"
   },
   "source": [
    "## Agent Executor\n",
    "\n",
    "Vamos utilizar um agent do tipo reAct, ele irá interagir com as ferramentas disponíveis conforme ele entender que haja necessidade.\n",
    "Neste exemplo, vamos utilizar um prompt do próprio hub de prompts do Langchain."
   ]
  },
  {
   "cell_type": "code",
   "execution_count": 5,
   "metadata": {
    "colab": {
     "base_uri": "https://localhost:8080/"
    },
    "collapsed": true,
    "id": "QSBoQ8da7VMJ",
    "outputId": "4153e450-4ca1-4387-8201-00e44191d71e"
   },
   "outputs": [
    {
     "name": "stderr",
     "output_type": "stream",
     "text": [
      "/usr/local/lib/python3.10/dist-packages/langsmith/client.py:354: LangSmithMissingAPIKeyWarning: API key must be provided when using hosted LangSmith API\n",
      "  warnings.warn(\n"
     ]
    },
    {
     "name": "stdout",
     "output_type": "stream",
     "text": [
      "================================\u001b[1m System Message \u001b[0m================================\n",
      "\n",
      "You are a helpful assistant.\n",
      "\n",
      "=============================\u001b[1m Messages Placeholder \u001b[0m=============================\n",
      "\n",
      "\u001b[33;1m\u001b[1;3m{messages}\u001b[0m\n"
     ]
    }
   ],
   "source": [
    "from langchain import hub\n",
    "from langchain_openai import ChatOpenAI\n",
    "from langgraph.prebuilt import create_react_agent\n",
    "\n",
    "##Utilizando prompt do hub de prompts do langchain\n",
    "prompt =  hub.pull(\"ih/ih-react-agent-executor\")\n",
    "prompt.pretty_print()\n",
    "\n",
    "llm = ChatOpenAI(model = \"gpt-4o-mini\")\n",
    "agent_executor = create_react_agent(model= llm, tools= tools, state_modifier= prompt)"
   ]
  },
  {
   "cell_type": "markdown",
   "metadata": {
    "id": "x27CS9t__55w"
   },
   "source": [
    "## Planejador de Etapas\n",
    "\n",
    "Vamos desenvolver o `planner`, que irá criar um plano inicial para atingir um determinado objetivo. Ele irá devolver um output estruturado a partir da `class Plan`."
   ]
  },
  {
   "cell_type": "code",
   "execution_count": 7,
   "metadata": {
    "id": "UkXET4Lw_7RI"
   },
   "outputs": [],
   "source": [
    "from pydantic import BaseModel, Field\n",
    "\n",
    "class Plan(BaseModel):\n",
    "  \"Planeje as próximas etapas a seguir\"\n",
    "\n",
    "  steps: List[str] = Field(\n",
    "      description = \"As diferentes etapas a seguir, devem estar por ordem de classificação\"\n",
    "  )"
   ]
  },
  {
   "cell_type": "code",
   "execution_count": 8,
   "metadata": {
    "id": "6H2ljRKTBfpm"
   },
   "outputs": [],
   "source": [
    "from  langchain_core.prompts import ChatPromptTemplate\n",
    "\n",
    "planner_prompt = ChatPromptTemplate.from_messages(\n",
    "    [\n",
    "        (\n",
    "            \"system\",\n",
    "            \"\"\"\n",
    "            Para um objetivo informado, elabore um plano etapa a etapa simples.\n",
    "            Este plano deve envolver tarefas individuais que se executadas corretamente\n",
    "            produzirão a resposta correta. Não adicione etapas supérfluas.\n",
    "            Certifique-se de que tenha todas as informações necessárias para cada etapa - Não pule etapas.\n",
    "            O resultado da etapa final deve ser o a resposta final.\n",
    "            \"\"\"\n",
    "        ),\n",
    "        (\"placeholder\", \"{messages}\"),\n",
    "    ]\n",
    ")\n",
    "\n",
    "llm_with_structured_output = ChatOpenAI(model= \"gpt-4o-mini\", temperature= 0).with_structured_output(Plan)\n",
    "\n",
    "planner = planner_prompt | llm_with_structured_output"
   ]
  },
  {
   "cell_type": "markdown",
   "metadata": {
    "id": "HrPJNZzkJuao"
   },
   "source": [
    "## Replanejador de Etapas\n",
    "\n",
    "Vamos desenvolver o `replanner`, ele será responsável por avaliar o plano original e identificar se já atingimos o objetivo, caso ele entenda que ainda não foi atingido irá ou remover as etapas já realizadas ou desenvolver novas etapas para serem inseridas no plano original.\n",
    "\n",
    "O `replanner` também terá um output estruturado, á partir da classe `Act`, que terá uma variável chamda `action` que terá o seu type definido como um `Response` ou `Plan`. É com está lógica que vamos conseguir identificar quando o o replanejador identificar que já atingiu o seu objetivo final."
   ]
  },
  {
   "cell_type": "code",
   "execution_count": 63,
   "metadata": {
    "id": "wTewympjJxc-"
   },
   "outputs": [],
   "source": [
    "from typing import Union\n",
    "\n",
    "class Response(BaseModel):\n",
    "  \"A resposta para o usuário\"\n",
    "  response: str\n",
    "\n",
    "class Act(BaseModel):\n",
    "  \"Ação a ser executada\"\n",
    "\n",
    "  action: Union[Response,Plan] = Field(\n",
    "      description =\n",
    "      \"Ação a ser realizada. Se você já tiver a resposta do input do usuário utilize 'RESPONSE'\"\n",
    "      \"Se você precisar usar mais ferramentas para obter a resposta, use 'PLAN'\"\n",
    "  )\n",
    "\n",
    "replanner_prompt = ChatPromptTemplate.from_template(\n",
    "    \"\"\"\n",
    "    Para um objetivo informado, análise o seu plano atual e avalie se é necessário muda-lo ou não.\n",
    "    Identifique se já conseguimos atingir o objetivo através das etapas anteriores em 'past_steps', caso já tenha conseguido a resposta final utilize o RESPONSE e responda a pergunta do usuário.\n",
    "\n",
    "    Caso voce identifique que ainda precisamos seguir as outras etapas, analise o plano original e remova as etapas que já foram realizadas. Você também poderá adicionar novas etapas, caso tenha necessidade.\n",
    "\n",
    "    Se o plano sofrer alterações, se lembre que ele deve envolver tarefas individuais que se executadas corretamente produzirão a resposta correta. Não adicione etapas supérfluas.\n",
    "\n",
    "    Certifique-se de que tenha todas as informações necessárias para cada etapa.\n",
    "\n",
    "    O seu objetivo será o seguinte:\n",
    "    {input}\n",
    "\n",
    "    O seu plano original era este:\n",
    "    {plan}\n",
    "\n",
    "    Atualmente você já executou as seguintes etapas:\n",
    "    {past_steps}\n",
    "\n",
    "    \"\"\"\n",
    ")\n",
    "\n",
    "llm_with_structured_output = ChatOpenAI(model= \"gpt-4o-mini\", temperature= 0).with_structured_output(Act)\n",
    "\n",
    "replanner = replanner_prompt | llm_with_structured_output"
   ]
  },
  {
   "cell_type": "markdown",
   "metadata": {
    "id": "fJKQ0Z2SNYD-"
   },
   "source": [
    "## Criação dos Nodes\n",
    "\n",
    "Vamos iniciar a criação dos nodes que será incluidos no workflow.\n",
    "\n",
    "* `execute_step_node`: Será o responsável por informar o agent_executor qual é o plano e a tarefa atual que precisa ser executada. Ele também irá salvar a tarefa atual, na lista de tarefas já realizadas.\n",
    "\n",
    "<br>\n",
    "\n",
    "* `plan_step_node`: Este será o node de entrada, responsável por coletar o input do usuário e inserir ao planner, que irá criar um plano para atingir o objetivo informado na entrada do usuário.\n",
    "\n",
    "<br>\n",
    "\n",
    "* `replan_step_node`: O node será responsável por informar ao replanner qual é o status atual envolvendo o objetivo, caso ele entenda que já concluído irá formatar um response para o usuário, caso o contrário ele irá seguir com o plano atual ou adicionar novas etapas ao plano."
   ]
  },
  {
   "cell_type": "code",
   "execution_count": 64,
   "metadata": {
    "id": "mlK9-8BuNYx4"
   },
   "outputs": [],
   "source": [
    "from typing import Literal\n",
    "from langgraph.graph import END\n",
    "\n",
    "async def execute_step_node(state: PlanExecute):\n",
    "  plan = state[\"plan\"]\n",
    "  plan_str = \"\\n\".join(f\"{1+i}. {step}\" for i,step in enumerate(plan))\n",
    "  task = plan[0]\n",
    "  task_formatted = f\"\"\"Para o seguinte plano:{plan_str}\n",
    "  \\n\\n Você está encarregado de executar a etapa {1}, {task}\"\"\"\n",
    "\n",
    "  agent_response = await agent_executor.ainvoke({\n",
    "      'messages': ['user',task_formatted]\n",
    "  })\n",
    "\n",
    "  return {\n",
    "      'past_steps': [(task, agent_response['messages'][-1].content)]\n",
    "  }\n",
    "\n",
    "async def plan_step_node(state: PlanExecute):\n",
    "  plan = await planner.ainvoke({'messages': [('user', state['input'])]})\n",
    "\n",
    "  return {'plan': plan.steps}\n",
    "\n",
    "async def replan_step_node(state: PlanExecute):\n",
    "  output = await replanner.ainvoke(state)\n",
    "\n",
    "  if isinstance(output.action, Response):\n",
    "    return {\"response\": output.action.response}\n",
    "\n",
    "  else:\n",
    "    return {'plan': output.action.steps}"
   ]
  },
  {
   "cell_type": "markdown",
   "metadata": {
    "id": "CNSN05ZEN9qj"
   },
   "source": [
    "## Criação do Edge Conditional\n",
    "\n",
    "Função responsável por identificar se já foi gerado um response o não."
   ]
  },
  {
   "cell_type": "code",
   "execution_count": null,
   "metadata": {
    "id": "1jnx1WnfN5CW"
   },
   "outputs": [],
   "source": [
    "def should_end_conditional(state: PlanExecute):\n",
    "  if 'response' in state and state['response']:\n",
    "    return END\n",
    "\n",
    "  else:\n",
    "    return 'agent'"
   ]
  },
  {
   "cell_type": "markdown",
   "metadata": {
    "id": "KB8OA5KKOPe9"
   },
   "source": [
    "## Inicializando o Graph\n",
    "\n",
    "Inicializando o Graph e inserindo os seus nodes, definindo os seus edges e conditional edges."
   ]
  },
  {
   "cell_type": "code",
   "execution_count": 65,
   "metadata": {
    "colab": {
     "base_uri": "https://localhost:8080/"
    },
    "id": "VZTy0Jlyrqfc",
    "outputId": "8f668ad4-72f2-415b-9bdf-69a5d98fe828"
   },
   "outputs": [
    {
     "data": {
      "text/plain": [
       "<langgraph.graph.state.StateGraph at 0x7bf5f6082380>"
      ]
     },
     "execution_count": 65,
     "metadata": {},
     "output_type": "execute_result"
    }
   ],
   "source": [
    "from langgraph.graph import StateGraph, START\n",
    "\n",
    "workflow = StateGraph(PlanExecute)\n",
    "\n",
    "## Add nodes\n",
    "workflow.add_node('planner', plan_step_node)\n",
    "workflow.add_node('agent', execute_step_node)\n",
    "workflow.add_node('replan', replan_step_node)\n",
    "\n",
    "##Add edges\n",
    "workflow.add_edge(START, 'planner')\n",
    "workflow.add_edge('planner', 'agent')\n",
    "workflow.add_edge('agent', 'replan')\n",
    "\n",
    "##Add conditional edge\n",
    "workflow.add_conditional_edges(\n",
    "    'replan',\n",
    "    should_end_conditional,\n",
    "    ['agent', END]\n",
    ")"
   ]
  },
  {
   "cell_type": "code",
   "execution_count": 66,
   "metadata": {
    "id": "yVcXSghQvdSB"
   },
   "outputs": [],
   "source": [
    "##Compilando o graph\n",
    "app = workflow.compile()"
   ]
  },
  {
   "cell_type": "code",
   "execution_count": 67,
   "metadata": {
    "colab": {
     "base_uri": "https://localhost:8080/",
     "height": 697
    },
    "id": "5GNwhi5DvyJw",
    "outputId": "a9bcb044-e4dd-4062-d2a6-36f74c20c292"
   },
   "outputs": [
    {
     "data": {
      "image/jpeg": "[encoded data removed]",
      "text/plain": [
       "<IPython.core.display.Image object>"
      ]
     },
     "metadata": {},
     "output_type": "display_data"
    }
   ],
   "source": [
    "from IPython.display import Image, display\n",
    "\n",
    "display(Image(app.get_graph(xray=True).draw_mermaid_png()))"
   ]
  },
  {
   "cell_type": "markdown",
   "metadata": {
    "id": "nIsgnKQ2Obws"
   },
   "source": [
    "## Testando o Agent Plan-and-Execute\n",
    "\n",
    "Vamos realizar alguns teste envolvendo perguntas mais complexas e analisar como ele está desenvolvendo o seu plano inicial e analisando os próximos passos."
   ]
  },
  {
   "cell_type": "code",
   "execution_count": 69,
   "metadata": {
    "colab": {
     "base_uri": "https://localhost:8080/"
    },
    "id": "qne0PMSbv-vg",
    "outputId": "0292b390-effc-4cdd-e2c6-b25bb53e774e"
   },
   "outputs": [
    {
     "name": "stdout",
     "output_type": "stream",
     "text": [
      "{'plan': ['Identificar quem é Renato Portaluppi.', 'Pesquisar a carreira de Renato Portaluppi como jogador e treinador.', 'Identificar os principais títulos conquistados por Renato Portaluppi no Grêmio.', 'Determinar qual é considerado o maior feito de Renato Portaluppi na história do Grêmio.']}\n",
      "{'past_steps': [('Identificar quem é Renato Portaluppi.', 'Renato Portaluppi, conhecido como Renato Gaúcho, é um renomado treinador e ex-jogador de futebol brasileiro. Ele atuava como ponta-direita e é amplamente reconhecido por sua carreira tanto como jogador quanto como treinador.\\n\\nRenato é famoso por suas conquistas no Grêmio, onde teve um papel destacado como jogador, sendo um dos maiores artilheiros da história do clube. Ele também se destacou por sua atuação na seleção brasileira. Além disso, Renato Portaluppi fez história ao vencer a Copa Libertadores tanto como jogador quanto como treinador do Grêmio, consolidando-se como uma figura icônica no futebol brasileiro.\\n\\nSe você precisar de mais informações sobre a carreira dele, posso ajudar com as próximas etapas do seu plano.')]}\n",
      "{'plan': ['Pesquisar a carreira de Renato Portaluppi como jogador e treinador.', 'Identificar os principais títulos conquistados por Renato Portaluppi no Grêmio.', 'Determinar qual é considerado o maior feito de Renato Portaluppi na história do Grêmio.']}\n",
      "{'past_steps': [('Pesquisar a carreira de Renato Portaluppi como jogador e treinador.', 'Renato Portaluppi, também conhecido como Renato Gaúcho, é uma figura proeminente no futebol brasileiro, tanto como jogador quanto como treinador. Aqui está um resumo da sua carreira em ambas as funções:\\n\\n### Carreira como Jogador\\n- **Nascimento**: Renato nasceu em 9 de setembro de 1962, em Guaporé, Brasil.\\n- **Posição**: Ele atuava como ponta-direita e é considerado um dos melhores jogadores da sua posição nos anos 1980 e início dos anos 90.\\n- **Clubes**: Renato teve passagens marcantes por vários clubes, incluindo o Grêmio, onde se destacou e conquistou títulos importantes, e o Fluminense, onde também teve uma fase de destaque.\\n- **Títulos**: Como jogador, ele é famoso por ter vencido a Copa do Mundo de 1983 com o Grêmio, além de outros títulos, como a Copa Libertadores.\\n\\n### Carreira como Treinador\\n- **Início**: A primeira experiência de Renato como treinador ocorreu em 1996, durante sua passagem pelo Fluminense, onde atuou como jogador-treinador devido à luta do time contra o rebaixamento.\\n- **Clubes**: Após se retirar como jogador, Renato começou sua carreira de treinador no Madureira. Desde então, passou por vários clubes, incluindo um retorno notável ao Grêmio.\\n- **Atuação no Grêmio**: Ele é especialmente renomado por suas conquistas com o Grêmio, incluindo títulos de grande prestígio.\\n\\nRenato Portaluppi é amplamente reconhecido por sua contribuição ao futebol brasileiro, tanto em campo como à beira do gramado. Para mais detalhes sobre sua carreira, você pode acessar as informações disponíveis em [Wikiwand](https://www.wikiwand.com/pt/articles/Renato_Portaluppi) ou [Wikipedia](https://pt.wikipedia.org/wiki/Renato_Gaúcho).')]}\n",
      "{'plan': ['Identificar os principais títulos conquistados por Renato Portaluppi no Grêmio.', 'Determinar qual é considerado o maior feito de Renato Portaluppi na história do Grêmio.']}\n",
      "{'past_steps': [('Identificar os principais títulos conquistados por Renato Portaluppi no Grêmio.', 'Renato Portaluppi, conhecido como Renato Gaúcho, conquistou diversos títulos pelo Grêmio tanto como jogador quanto como técnico. Aqui estão os principais títulos que ele conquistou em cada uma dessas funções:\\n\\n### Como Jogador:\\n1. **Copa Libertadores**: 1983\\n2. **Mundial Interclubes**: 1983 (contra o Hamburgo)\\n3. **Campeonato Gaúcho**: 1985 e 1986\\n4. **Copa Philips**: 1987\\n\\nEsses títulos são parte da sua primeira passagem pelo Grêmio, que durou de 1980 a 1987 e depois em 1991.\\n\\n### Como Técnico:\\n1. **Copa do Brasil**: 2016\\n2. **Copa Libertadores**: 2017\\n3. **Recopa Sul-Americana**: 2018\\n4. **Campeonato Gaúcho**: 2018, 2019 e 2020\\n5. **Recopa Gaúcha**: 2018\\n\\nRenato teve passagens marcantes como técnico do Grêmio, especialmente na segunda passagem que começou em 2016.\\n\\nEsses títulos consolidam Renato Portaluppi como um dos maiores ídolos da história do Grêmio, tanto por suas conquistas como jogador quanto pelos sucessos como treinador.')]}\n",
      "{'plan': ['Determinar qual é considerado o maior feito de Renato Portaluppi na história do Grêmio.']}\n",
      "{'past_steps': [('Determinar qual é considerado o maior feito de Renato Portaluppi na história do Grêmio.', 'O maior feito de Renato Portaluppi na história do Grêmio é amplamente reconhecido como sua contribuição tanto como jogador quanto como técnico. Durante sua época como jogador, ele foi fundamental nas conquistas da Copa Libertadores e do Mundial de Clubes em 1983, o que consolidou sua imagem como um dos maiores ídolos da história do clube.\\n\\nComo técnico, Renato Portaluppi também deixou sua marca, sendo o treinador que mais vezes comandou o Grêmio, completando 500 jogos à frente da equipe. Ele teve sucesso em várias competições, incluindo a conquista da Copa do Brasil e da Copa Libertadores em sua segunda passagem pelo clube.\\n\\nAssim, os feitos mais destacados de Renato Portaluppi incluem:\\n\\n1. **Conquistas como jogador**: Copa Libertadores e Mundial de Clubes em 1983.\\n2. **Conquistas como técnico**: Várias taças, incluindo a Copa do Brasil e a Copa Libertadores, além de ser o técnico com o maior número de jogos na história do Grêmio.\\n\\nEssas conquistas solidificam Renato como um dos maiores ídolos do Grêmio em ambas as funções.')]}\n",
      "{'response': 'Renato Portaluppi, conhecido como Renato Gaúcho, é um renomado treinador e ex-jogador de futebol brasileiro. Ele é amplamente reconhecido por suas conquistas no Grêmio, onde teve um papel destacado como jogador e treinador. \\n\\nO maior feito de Renato Portaluppi na história do Grêmio é considerado sua contribuição tanto como jogador quanto como técnico. Durante sua época como jogador, ele foi fundamental nas conquistas da Copa Libertadores e do Mundial de Clubes em 1983, consolidando sua imagem como um dos maiores ídolos do clube. \\n\\nComo técnico, Renato também deixou sua marca, sendo o treinador que mais vezes comandou o Grêmio, completando 500 jogos à frente da equipe, e conquistando a Copa do Brasil e a Copa Libertadores em sua segunda passagem pelo clube. \\n\\nAssim, os feitos mais destacados de Renato Portaluppi incluem:\\n1. **Conquistas como jogador**: Copa Libertadores e Mundial de Clubes em 1983.\\n2. **Conquistas como técnico**: Várias taças, incluindo a Copa do Brasil e a Copa Libertadores, além de ser o técnico com o maior número de jogos na história do Grêmio.'}\n"
     ]
    }
   ],
   "source": [
    "config = {\"recursion_limit\": 50}\n",
    "inputs = {\"input\": \"Quem é Renato Portaluppi e qual o seu maior feito na história do Gremio?\"}\n",
    "\n",
    "async for event in app.astream(inputs, config=config):\n",
    "    for k, v in event.items():\n",
    "        if k != \"__end__\":\n",
    "            print(v)"
   ]
  }
 ],
 "metadata": {
  "colab": {
   "provenance": []
  },
  "kernelspec": {
   "display_name": "Python 3",
   "name": "python3"
  },
  "language_info": {
   "name": "python"
  }
 },
 "nbformat": 4,
 "nbformat_minor": 0
}
